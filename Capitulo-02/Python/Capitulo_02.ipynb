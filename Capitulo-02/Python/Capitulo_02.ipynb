{
  "nbformat": 4,
  "nbformat_minor": 0,
  "metadata": {
    "colab": {
      "name": "Capitulo-02.ipynb",
      "provenance": [],
      "authorship_tag": "ABX9TyO13dUAkKcrShYkZ5w8W46q",
      "include_colab_link": true
    },
    "kernelspec": {
      "name": "python3",
      "display_name": "Python 3"
    },
    "language_info": {
      "name": "python"
    }
  },
  "cells": [
    {
      "cell_type": "markdown",
      "metadata": {
        "id": "view-in-github",
        "colab_type": "text"
      },
      "source": [
        "<a href=\"https://colab.research.google.com/github/fredericmenezes/Processamento-Digital-de-Imagens-Gonzalez/blob/main/Capitulo-02/Python/Capitulo_02.ipynb\" target=\"_parent\"><img src=\"https://colab.research.google.com/assets/colab-badge.svg\" alt=\"Open In Colab\"/></a>"
      ]
    },
    {
      "cell_type": "markdown",
      "metadata": {
        "id": "XQCSaPjQ1_sW"
      },
      "source": [
        "#**Atividade 1 - Operações em Pixels**\n",
        "Uma atividade do curso de Processameto de Imagens do programa de mestrado da Universidade Federal do Maranhão - UFMA\n",
        "\n",
        "Aluno: Frederic Menezes\n",
        "\n",
        ">Este notebook fornece uma introdução às técnicas básicas de processamento de imagem usando a biblioteca de visão computacional OpenCV e algumas bibliotecas de análise de dados padrão em Python. Conhecimentos de processamento de imagens e programação Python não são necessários para este notebook, mas ajudaram.\n",
        "\n",
        "*O codigo-fonte para esse notebook está localizado em https://github.com/fredericmenezes/Processamento-Digital-de-Imagens-Gonzalez/blob/main/Capitulo-02/Python/Capitulo_02.ipynb*\n",
        "\n",
        "*Introdução útil sobre [Colab](https://colab.research.google.com/notebooks/welcome.ipynb)*\n",
        "\n",
        "*Introdução útil sobre [OpenCV](https://opencv.org/)*"
      ]
    },
    {
      "cell_type": "markdown",
      "metadata": {
        "id": "x3h2etkEXCAq"
      },
      "source": [
        "## Passo 1: Clonando o Repositório\n",
        "\n",
        "> Clone esse Repositório no seu Google Colab:\n",
        "\n",
        "* As imagens usadas estão em `Capitulo-02/Dados/DIP3E_Original_Images/`\n"
      ]
    },
    {
      "cell_type": "code",
      "metadata": {
        "id": "oZGslDRti4RG"
      },
      "source": [
        "!git clone https://github.com/fredericmenezes/Processamento-Digital-de-Imagens-Gonzalez.git\n",
        "%cd Processamento-Digital-de-Imagens-Gonzales"
      ],
      "execution_count": null,
      "outputs": []
    },
    {
      "cell_type": "markdown",
      "metadata": {
        "id": "Rk5ankBfjcfo"
      },
      "source": [
        "## Passo 2: Importando as Bibliotecas"
      ]
    },
    {
      "cell_type": "markdown",
      "metadata": {
        "id": "QVwG6m7H1R45"
      },
      "source": [
        "**Exercício 1:** Abra duas imagens coloridas de formatos (extensão) \n",
        "\n",
        "diferentes, p.e., jpg e png."
      ]
    },
    {
      "cell_type": "markdown",
      "metadata": {
        "id": "brkQ14o_PBvg"
      },
      "source": [
        "**Importando as bibliotecas**"
      ]
    },
    {
      "cell_type": "code",
      "metadata": {
        "id": "5-hn7QTZ7R7Q"
      },
      "source": [
        "import numpy as np\n",
        "import cv2 as cv\n"
      ],
      "execution_count": 58,
      "outputs": []
    },
    {
      "cell_type": "code",
      "metadata": {
        "colab": {
          "base_uri": "https://localhost:8080/"
        },
        "id": "GvsoDZDu7T_V",
        "outputId": "2ec9b735-0473-4db8-aac1-068478ceaa27"
      },
      "source": [
        "x"
      ],
      "execution_count": 2,
      "outputs": [
        {
          "output_type": "execute_result",
          "data": {
            "text/plain": [
              "3"
            ]
          },
          "metadata": {
            "tags": []
          },
          "execution_count": 2
        }
      ]
    },
    {
      "cell_type": "code",
      "metadata": {
        "colab": {
          "base_uri": "https://localhost:8080/",
          "height": 35
        },
        "id": "Sv6x4l1o7bDS",
        "outputId": "2ac96aca-597c-46ad-d93d-1ede811e2422"
      },
      "source": [
        ""
      ],
      "execution_count": 16,
      "outputs": [
        {
          "output_type": "execute_result",
          "data": {
            "application/vnd.google.colaboratory.intrinsic+json": {
              "type": "string"
            },
            "text/plain": [
              "'-0b1011'"
            ]
          },
          "metadata": {
            "tags": []
          },
          "execution_count": 16
        }
      ]
    },
    {
      "cell_type": "code",
      "metadata": {
        "colab": {
          "base_uri": "https://localhost:8080/",
          "height": 35
        },
        "id": "IpT0cvyI7gm4",
        "outputId": "e9bec12b-8feb-4dc9-95dc-e585a42b0915"
      },
      "source": [
        "bin(63)"
      ],
      "execution_count": 17,
      "outputs": [
        {
          "output_type": "execute_result",
          "data": {
            "application/vnd.google.colaboratory.intrinsic+json": {
              "type": "string"
            },
            "text/plain": [
              "'0b111111'"
            ]
          },
          "metadata": {
            "tags": []
          },
          "execution_count": 17
        }
      ]
    },
    {
      "cell_type": "code",
      "metadata": {
        "colab": {
          "base_uri": "https://localhost:8080/",
          "height": 35
        },
        "id": "zdAeMPDU8Jq1",
        "outputId": "85804142-3e2e-43f3-9966-96e49e348866"
      },
      "source": [
        "import numpy as np\n",
        "\n",
        "x = np.uint8(255)\n",
        "bin(x)"
      ],
      "execution_count": 55,
      "outputs": [
        {
          "output_type": "execute_result",
          "data": {
            "application/vnd.google.colaboratory.intrinsic+json": {
              "type": "string"
            },
            "text/plain": [
              "'0b11111111'"
            ]
          },
          "metadata": {
            "tags": []
          },
          "execution_count": 55
        }
      ]
    },
    {
      "cell_type": "code",
      "metadata": {
        "colab": {
          "base_uri": "https://localhost:8080/"
        },
        "id": "8mPenlMP8cNY",
        "outputId": "c1270074-d3a8-4b6a-f3bd-eaf7f990773f"
      },
      "source": [
        "type(x)\n"
      ],
      "execution_count": 53,
      "outputs": [
        {
          "output_type": "execute_result",
          "data": {
            "text/plain": [
              "numpy.uint8"
            ]
          },
          "metadata": {
            "tags": []
          },
          "execution_count": 53
        }
      ]
    },
    {
      "cell_type": "code",
      "metadata": {
        "colab": {
          "base_uri": "https://localhost:8080/",
          "height": 35
        },
        "id": "1gdy3bhCA63J",
        "outputId": "be4f7a73-33a1-4b56-a352-f7c4486d8f57"
      },
      "source": [
        "bin(x & ~(0b00000111))[2:].zfill(8)"
      ],
      "execution_count": 54,
      "outputs": [
        {
          "output_type": "execute_result",
          "data": {
            "application/vnd.google.colaboratory.intrinsic+json": {
              "type": "string"
            },
            "text/plain": [
              "'11111000'"
            ]
          },
          "metadata": {
            "tags": []
          },
          "execution_count": 54
        }
      ]
    },
    {
      "cell_type": "code",
      "metadata": {
        "colab": {
          "base_uri": "https://localhost:8080/",
          "height": 35
        },
        "id": "eSAfjkttAcWJ",
        "outputId": "043e6074-9d33-447f-eb9a-95800ecdd760"
      },
      "source": [
        "bin(~x)"
      ],
      "execution_count": 23,
      "outputs": [
        {
          "output_type": "execute_result",
          "data": {
            "application/vnd.google.colaboratory.intrinsic+json": {
              "type": "string"
            },
            "text/plain": [
              "'0b11000000'"
            ]
          },
          "metadata": {
            "tags": []
          },
          "execution_count": 23
        }
      ]
    },
    {
      "cell_type": "code",
      "metadata": {
        "colab": {
          "base_uri": "https://localhost:8080/",
          "height": 35
        },
        "id": "N4sk408MAmO2",
        "outputId": "55d4bcea-db71-49f8-e634-4391d293dcd1"
      },
      "source": [
        "bin((7))[2:]"
      ],
      "execution_count": 43,
      "outputs": [
        {
          "output_type": "execute_result",
          "data": {
            "application/vnd.google.colaboratory.intrinsic+json": {
              "type": "string"
            },
            "text/plain": [
              "'111'"
            ]
          },
          "metadata": {
            "tags": []
          },
          "execution_count": 43
        }
      ]
    }
  ]
}